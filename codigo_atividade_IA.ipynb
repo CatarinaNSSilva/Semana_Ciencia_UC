{
  "cells": [
    {
      "cell_type": "markdown",
      "metadata": {
        "id": "view-in-github",
        "colab_type": "text"
      },
      "source": [
        "<a href=\"https://colab.research.google.com/github/CatarinaNSSilva/Semana_Ciencia_UC/blob/main/codigo_atividade_IA.ipynb\" target=\"_parent\"><img src=\"https://colab.research.google.com/assets/colab-badge.svg\" alt=\"Open In Colab\"/></a>"
      ]
    },
    {
      "cell_type": "markdown",
      "metadata": {
        "id": "jJgKQG7knFWm"
      },
      "source": [
        "# Antes de começarmos"
      ]
    },
    {
      "cell_type": "markdown",
      "metadata": {
        "id": "tx7ZiP_wnDky"
      },
      "source": [
        "Podes modificar este bloco de notas (notebook) diretamente e trabalhar nos exercícios, mas não te esqueças de guardar uma cópia no teu Goodle Drive (na aba _Ficheiro_ ou _File_)!\n",
        "\n",
        "Podes usar o menu à esquerda para navegar no notebook, adicionar uma nova linha de código ou texto em “+ Code” ou “+ Text” acima."
      ]
    },
    {
      "cell_type": "markdown",
      "metadata": {
        "id": "WxPHjJXvjGi1"
      },
      "source": [
        "# Extrair imagens"
      ]
    },
    {
      "cell_type": "markdown",
      "metadata": {
        "id": "DbF2wB_ajNAO"
      },
      "source": [
        "Para aceder às imagens para esta atividade vamos clonar aqui, no ambiente de trabalho do Google Colab, a pasta que criei no GitHub.\n"
      ]
    },
    {
      "cell_type": "code",
      "execution_count": null,
      "metadata": {
        "id": "3O2xZ1G_Y3sp"
      },
      "outputs": [],
      "source": [
        "import os\n",
        "\n",
        "git_folder = \"CatarinaNSSilva/Semana_Ciencia_UC\"\n",
        "if os.path.exists(git_folder) == False:\n",
        "   !git clone https://github.com/CatarinaNSSilva/Semana_Ciencia_UC.git\n",
        "\n",
        "path_to_images = git_folder"
      ]
    },
    {
      "cell_type": "markdown",
      "metadata": {
        "id": "CnMkW0KVnXSG"
      },
      "source": [
        "Esta atividade usa o [TensorFlow](https://www.tensorflow.org/resources/libraries-extensions). TensorFlow é uma plataforma para aprendizado de máquina. A plataforma possui um grande número de funções integradas.\n",
        "\n",
        "Para executar este exemplo, primeiro precisamos instalar e importar outros pacotes necessários, incluindo o [Keras](https://keras.io/about/#:~:text=Keras%20is%20the%20high%2Dlevel,solutions%20with%20high%20iteration%20velocity.), [Numpy](https://numpy.org/) e o [Matplotlib](https://matplotlib.org/) para visualização."
      ]
    },
    {
      "cell_type": "code",
      "execution_count": null,
      "metadata": {
        "id": "vZfDup1mOJZi"
      },
      "outputs": [],
      "source": [
        "import matplotlib.pyplot as plt\n",
        "import numpy as np\n",
        "import PIL\n",
        "import tensorflow as tf\n",
        "\n",
        "from tensorflow import keras\n",
        "from tensorflow.keras import layers\n",
        "from tensorflow.keras.models import Sequential"
      ]
    },
    {
      "cell_type": "markdown",
      "metadata": {
        "id": "io5ut-LrRDGz"
      },
      "source": [
        "## Criar a dataset"
      ]
    },
    {
      "cell_type": "code",
      "execution_count": null,
      "metadata": {
        "id": "2mVR9ts-RHZg"
      },
      "outputs": [],
      "source": [
        "batch_size = 32\n",
        "img_height = 180\n",
        "img_width = 180"
      ]
    },
    {
      "cell_type": "markdown",
      "metadata": {
        "id": "pOxZDdR0RLnr"
      },
      "source": [
        "It's good practice to use a validation split when developing your model. Use ~80% of the images for training and 20% for validation.\n",
        "\n",
        "É uma boa prática dovidir os nossos dados em validação (cerca de 80%) e treino  (20%) para verificar o desempenho do modelo de IA."
      ]
    },
    {
      "cell_type": "code",
      "execution_count": null,
      "metadata": {
        "id": "qTxAQJPgRIAh"
      },
      "outputs": [],
      "source": [
        "data_dir = '/content/Semana_Ciencia_UC/imagens'\n",
        "\n",
        "train_ds = tf.keras.utils.image_dataset_from_directory(\n",
        "  data_dir,\n",
        "  validation_split=0.2,\n",
        "  subset=\"training\",\n",
        "  seed=123,\n",
        "  image_size=(img_height, img_width),\n",
        "  batch_size=batch_size)"
      ]
    },
    {
      "cell_type": "code",
      "execution_count": null,
      "metadata": {
        "id": "yRPw3Lr3RIFs"
      },
      "outputs": [],
      "source": [
        "val_ds = tf.keras.utils.image_dataset_from_directory(\n",
        "  data_dir,\n",
        "  validation_split=0.2,\n",
        "  subset=\"validation\",\n",
        "  seed=123,\n",
        "  image_size=(img_height, img_width),\n",
        "  batch_size=batch_size)"
      ]
    },
    {
      "cell_type": "code",
      "execution_count": null,
      "metadata": {
        "id": "XkE-7yb73TA1"
      },
      "outputs": [],
      "source": [
        "data_dir_test = '/content/Semana_Ciencia_UC/imagens_teste'\n",
        "\n",
        "test_dataset = tf.keras.utils.image_dataset_from_directory(\n",
        "    data_dir_test,\n",
        "    shuffle=False,\n",
        "    batch_size=batch_size,\n",
        "    image_size=(img_height, img_width))"
      ]
    },
    {
      "cell_type": "code",
      "execution_count": null,
      "metadata": {
        "id": "7QDFr2O11caE"
      },
      "outputs": [],
      "source": [
        "class_names = test_dataset.class_names\n",
        "print(class_names)"
      ]
    },
    {
      "cell_type": "markdown",
      "metadata": {
        "id": "ImcXkpnH1jUA"
      },
      "source": [
        "## Visualizar os dados"
      ]
    },
    {
      "cell_type": "code",
      "execution_count": null,
      "metadata": {
        "id": "7KYQ3Lks1lOE"
      },
      "outputs": [],
      "source": [
        "import matplotlib.pyplot as plt\n",
        "\n",
        "plt.figure(figsize=(10, 10))\n",
        "for images, labels in train_ds.take(1):\n",
        "  for i in range(9):\n",
        "    ax = plt.subplot(3, 3, i + 1)\n",
        "    plt.imshow(images[i].numpy().astype(\"uint8\"))\n",
        "    plt.title(class_names[labels[i]])\n",
        "    plt.axis(\"off\")"
      ]
    },
    {
      "cell_type": "markdown",
      "metadata": {
        "id": "K87Ydnlc1pf_"
      },
      "source": [
        "\n",
        "Agora passamos este conjunto de dados para o método Keras Model.fit, o formato necessario para treino do modelo, que faremos a serguir."
      ]
    },
    {
      "cell_type": "code",
      "execution_count": null,
      "metadata": {
        "id": "kX7hth_J1f4Z"
      },
      "outputs": [],
      "source": [
        "for image_batch, labels_batch in train_ds:\n",
        "  print(image_batch.shape)\n",
        "  print(labels_batch.shape)\n",
        "  break"
      ]
    },
    {
      "cell_type": "markdown",
      "metadata": {
        "id": "jSFYa8x313DP"
      },
      "source": [
        "As nossas imagens estão agora na forma de um tensor ou matriz da forma (32, 180, 180, 3). Trata-se de um lote de 32 imagens no formato 180x180x3 (a última dimensão refere-se aos canais de cores RGB).\n"
      ]
    },
    {
      "cell_type": "markdown",
      "metadata": {
        "id": "b1OIbsyE2FYv"
      },
      "source": [
        "## Padronizar os dados"
      ]
    },
    {
      "cell_type": "markdown",
      "metadata": {
        "id": "es9LxnrtK6ZY"
      },
      "source": [
        "Os valores do canal RGB estão entre [0, 255]. Isto não é ideal para uma rede neural (o modelo que vamos treinar); no geral, deve-se tentar diminuir os valores.\n",
        "\n",
        "Aqui, vamos padronizar os valores para estarem no intervalo [0, 1] usando tf.keras.layers.Rescaling:"
      ]
    },
    {
      "cell_type": "code",
      "execution_count": null,
      "metadata": {
        "id": "nStn3Qjc1qYe"
      },
      "outputs": [],
      "source": [
        "normalization_layer = layers.Rescaling(1./255)\n",
        "\n",
        "normalized_ds = train_ds.map(lambda x, y: (normalization_layer(x), y))\n",
        "image_batch, labels_batch = next(iter(normalized_ds))\n",
        "first_image = image_batch[0]\n",
        "# Notice the pixel values are now in `[0,1]`.\n",
        "print(np.min(first_image), np.max(first_image))\n",
        "\n",
        "normalized_test_ds = test_dataset.map(lambda x, y: (normalization_layer(x), y))\n",
        "image_batch, labels_batch = next(iter(normalized_test_ds))\n",
        "first_image = image_batch[0]\n",
        "# Notice the pixel values are now in `[0,1]`.\n",
        "print(np.min(first_image), np.max(first_image))"
      ]
    },
    {
      "cell_type": "markdown",
      "metadata": {
        "id": "SBJkRQNMLMnU"
      },
      "source": [
        "# Treinar um modelo de IA"
      ]
    },
    {
      "cell_type": "markdown",
      "metadata": {
        "id": "6iHvWnzDLQhT"
      },
      "source": [
        "Vamos usar uma rede neuronal simples com 3 blocos:"
      ]
    },
    {
      "cell_type": "code",
      "execution_count": null,
      "metadata": {
        "id": "iHwG4XzkLNlz"
      },
      "outputs": [],
      "source": [
        "num_classes = len(class_names)\n",
        "\n",
        "model = Sequential([\n",
        "  layers.Rescaling(1./255, input_shape=(img_height, img_width, 3)),\n",
        "  layers.Conv2D(16, 3, padding='same', activation='relu'),\n",
        "  layers.MaxPooling2D(),\n",
        "  layers.Conv2D(32, 3, padding='same', activation='relu'),\n",
        "  layers.MaxPooling2D(),\n",
        "  layers.Conv2D(64, 3, padding='same', activation='relu'),\n",
        "  layers.MaxPooling2D(),\n",
        "  layers.Flatten(),\n",
        "  layers.Dense(128, activation='relu'),\n",
        "  layers.Dense(num_classes)\n",
        "])"
      ]
    },
    {
      "cell_type": "markdown",
      "metadata": {
        "id": "zSnYf7n_Li_C"
      },
      "source": [
        "## Compilar a estrutura do modelo"
      ]
    },
    {
      "cell_type": "markdown",
      "metadata": {
        "id": "TI8VFe5PLmJk"
      },
      "source": [
        "Podemos alterar muitas definicoes para optimizar o modelo mas vamos ficar por aqui hoje :)"
      ]
    },
    {
      "cell_type": "code",
      "execution_count": null,
      "metadata": {
        "id": "f8myY1fZ1ccT"
      },
      "outputs": [],
      "source": [
        "model.compile(optimizer='adam',\n",
        "              loss=tf.keras.losses.SparseCategoricalCrossentropy(from_logits=True),\n",
        "              metrics=['accuracy'])"
      ]
    },
    {
      "cell_type": "markdown",
      "metadata": {
        "id": "SNFoqFRRLxda"
      },
      "source": [
        "## Treinar (ou ensinar) a IA"
      ]
    },
    {
      "cell_type": "code",
      "execution_count": null,
      "metadata": {
        "id": "es-NTdkPk4fZ"
      },
      "outputs": [],
      "source": [
        "callback = tf.keras.callbacks.EarlyStopping(monitor='val_loss', patience=3)\n",
        "\n",
        "epochs = 50\n",
        "history = model.fit(\n",
        "  train_ds,\n",
        "  validation_data=val_ds,\n",
        "  epochs=epochs,\n",
        "  callbacks=[callback]\n",
        ")"
      ]
    },
    {
      "cell_type": "markdown",
      "metadata": {
        "id": "n2h1Ms9dlpbF"
      },
      "source": [
        "## Visualizar os resultados"
      ]
    },
    {
      "cell_type": "code",
      "source": [
        "acc = history.history['accuracy']\n",
        "val_acc = history.history['val_accuracy']\n",
        "\n",
        "loss = history.history['loss']\n",
        "val_loss = history.history['val_loss']\n",
        "\n",
        "epochs_range = range(15) # modificar o valor para o numero de épocas do treino acima\n",
        "\n",
        "plt.figure(figsize=(8, 8))\n",
        "plt.subplot(1, 2, 1)\n",
        "plt.plot(epochs_range, acc, label='Training Accuracy')\n",
        "plt.plot(epochs_range, val_acc, label='Validation Accuracy')\n",
        "plt.legend(loc='lower right')\n",
        "plt.title('Training and Validation Accuracy')\n",
        "\n",
        "plt.subplot(1, 2, 2)\n",
        "plt.plot(epochs_range, loss, label='Training Loss')\n",
        "plt.plot(epochs_range, val_loss, label='Validation Loss')\n",
        "plt.legend(loc='upper right')\n",
        "plt.title('Training and Validation Loss')\n",
        "plt.show()"
      ],
      "metadata": {
        "id": "CFaKPsjL_GEE"
      },
      "execution_count": null,
      "outputs": []
    },
    {
      "cell_type": "code",
      "execution_count": null,
      "metadata": {
        "id": "eyi77MOQltVc"
      },
      "outputs": [],
      "source": [
        "loss, accuracy = model.evaluate(train_ds)"
      ]
    },
    {
      "cell_type": "code",
      "execution_count": null,
      "metadata": {
        "id": "u4slxkN-lwNG"
      },
      "outputs": [],
      "source": [
        "loss, accuracy = model.evaluate(val_ds)"
      ]
    },
    {
      "cell_type": "markdown",
      "metadata": {
        "id": "Iq11LsiEl3ax"
      },
      "source": [
        "## Matriz de confusão (ou matriz de erro)"
      ]
    },
    {
      "cell_type": "code",
      "execution_count": null,
      "metadata": {
        "id": "sHnPIAMPl5Ba"
      },
      "outputs": [],
      "source": [
        "from sklearn.metrics import confusion_matrix, ConfusionMatrixDisplay\n",
        "\n",
        "\n",
        "for images, labels in test_dataset.take(1):\n",
        "    numpy_images = images.numpy()\n",
        "    numpy_labels = labels.numpy()\n",
        "\n",
        "y_prediction = model.predict(test_dataset)\n",
        "y_prediction = np.argmax (y_prediction, axis = 1)\n",
        "result = confusion_matrix(numpy_labels, y_prediction , normalize='true')\n",
        "\n",
        "\n",
        "disp = ConfusionMatrixDisplay(confusion_matrix=result,\n",
        "                              display_labels=class_names)\n",
        "disp.plot(cmap='Blues')\n",
        "plt.grid(False)\n",
        "\n",
        "plt.show()"
      ]
    }
  ],
  "metadata": {
    "accelerator": "GPU",
    "colab": {
      "provenance": [],
      "include_colab_link": true
    },
    "gpuClass": "standard",
    "kernelspec": {
      "display_name": "Python 3",
      "name": "python3"
    }
  },
  "nbformat": 4,
  "nbformat_minor": 0
}